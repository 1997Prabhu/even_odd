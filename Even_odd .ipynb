{
 "cells": [
  {
   "cell_type": "code",
   "execution_count": 3,
   "id": "e3e977c9",
   "metadata": {},
   "outputs": [
    {
     "name": "stdout",
     "output_type": "stream",
     "text": [
      "even numbers : 4\n",
      "odd nyumbers : 5\n"
     ]
    }
   ],
   "source": [
    "list1=[1,2,3,4,5,6,7,8,9]\n",
    "a=0\n",
    "b=0\n",
    "\n",
    "for ele in list1:\n",
    "    if ele % 2 == 0:\n",
    "        a+=1\n",
    "    else:\n",
    "        b+=1\n",
    "print(\"even numbers :\" , a )\n",
    "print(\"odd nyumbers :\" , b)"
   ]
  },
  {
   "cell_type": "code",
   "execution_count": null,
   "id": "0dea1432",
   "metadata": {},
   "outputs": [],
   "source": []
  }
 ],
 "metadata": {
  "kernelspec": {
   "display_name": "Python 3 (ipykernel)",
   "language": "python",
   "name": "python3"
  },
  "language_info": {
   "codemirror_mode": {
    "name": "ipython",
    "version": 3
   },
   "file_extension": ".py",
   "mimetype": "text/x-python",
   "name": "python",
   "nbconvert_exporter": "python",
   "pygments_lexer": "ipython3",
   "version": "3.8.0"
  }
 },
 "nbformat": 4,
 "nbformat_minor": 5
}
